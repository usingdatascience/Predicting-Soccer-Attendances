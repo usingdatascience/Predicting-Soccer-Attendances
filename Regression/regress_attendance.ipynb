{
  "cells": [
    {
      "metadata": {
        "_uuid": "94b7dfc90d173633463f775901aad543bbb542d0"
      },
      "cell_type": "markdown",
      "source": "## Soccer Analytics - Predicting the attendances of English soccer matches\nThis notebook utilises a dataset of English League 1 & 2 matches, from the 2017/18 season. The dataset was created by via a series of scripts (python + R) written by myself. \n\nThe code for these scripts can be found in my github repo :-\nhttps://github.com/usingdatascience/Predicting-Soccer-Attendances.  \n\nThe dataset file has the following features :-\n* Date : date of match HomeTeam\n*  Home Team AwayTeam\n* Away Team Day_Eve : Is game a day or evening match ?\n* Day Type : Is the game on a weekend or during week ?\n* Holiday : Is the game played on a bank holiday ?\n* Hol Type : Same as Holiday\n* Capacity : Capacity of home teams ground\n* Average Travelling Fans : Average number of travelling fans that away team takes (based on previous season)\n* Cheapest Season T : Lowest Season ticket price for home team\n* Home League Position : Current position at time of game, of home team\n* Away League Position : Current position at time of game, of away team\n* Form Home : Current form of the home team (based on last 5 matches)\n* Form Away : Current form of the away team (based on last 5 matches)\n* Distance : Distance between the home sides ground and the away team\n* Temperature : Temperature on day of game Weather Event : ??\n* Lowest Home Ticket Price : Lowest ticket price for a home fan\n* Lowest Away Ticket Price : Lowest ticket price for an away fan\n* Home PostCode : Postcode of home team\n* Away PostCode : Postcode of away team\n* Attendance : Attendance for the game\n* Highest Home Ticket Price : Highest home ticket price that a fan can pay\n\nThis notebook is the first attempt at Multiple Linear Regression on this dataset."
    },
    {
      "metadata": {
        "trusted": true,
        "_uuid": "e906865f7a45dfb15fe77b61a2f90518eb0f7482",
        "collapsed": true
      },
      "cell_type": "code",
      "source": "# Load library\nimport pandas as pd\nimport seaborn as sns\nimport matplotlib.pyplot as plt\nimport numpy as np\n%matplotlib inline\n\nfrom sklearn.linear_model import LinearRegression\nfrom sklearn.dummy import DummyRegressor\nfrom sklearn.model_selection import train_test_split\nfrom sklearn.preprocessing import scale\nfrom sklearn.metrics import mean_squared_error\nfrom sklearn.model_selection import cross_val_score\nfrom sklearn.linear_model import Ridge\nfrom sklearn.linear_model import RidgeCV\nimport statsmodels.api as sm",
      "execution_count": null,
      "outputs": []
    },
    {
      "metadata": {
        "trusted": true,
        "_uuid": "965b0c6aeee0ecbad43b48ad1a5bcf6cc824999b",
        "collapsed": true
      },
      "cell_type": "code",
      "source": "# Load the dataset\ndf = pd.read_csv(\"../input/final_dataset_V2copy.csv\")\ndf.head()",
      "execution_count": null,
      "outputs": []
    },
    {
      "metadata": {
        "trusted": true,
        "_uuid": "ddb39a371a7b61358eeb50042582e54f800ce533",
        "collapsed": true
      },
      "cell_type": "code",
      "source": "df_sub = df[['HomeTeam','AwayTeam','Day_Eve','Hol_Type','Day_Type','Capacity','Average_Travelling_Fans','Cheapest_Season_T',\n             'Home_League_Position','Away_League_Position','Form_Home','Form_Away','Distance','Temperature','Lowest_Home_Ticket_Price',\n             'Lowest_Away_Ticket_Price','Highest_Home_Ticket_Price','match_month','Attendance']]\ndf_sub.iloc[30,:]",
      "execution_count": null,
      "outputs": []
    },
    {
      "metadata": {
        "trusted": true,
        "_uuid": "115ee20f48cfa4f9e8a769d2862e3cd3a9465ef3",
        "collapsed": true
      },
      "cell_type": "code",
      "source": "# convert the teams columns to numbers using label decoding\ndf_sub['HTeam']=df_sub['HomeTeam'].astype('category')\ndf_sub[\"HTeam\"] = df_sub[\"HTeam\"].cat.codes\ndf_sub['ATeam']=df_sub['AwayTeam'].astype('category')\ndf_sub[\"ATeam\"] = df_sub[\"ATeam\"].cat.codes\ndf_sub[\"DayEve\"] = df_sub[\"Day_Eve\"].astype('category')\ndf_sub[\"DayEve\"] = df_sub[\"DayEve\"].cat.codes\ndf_sub.head()",
      "execution_count": null,
      "outputs": []
    },
    {
      "metadata": {
        "_uuid": "889ba84bebdf704ecc9494a6f5211d623d7d2050"
      },
      "cell_type": "markdown",
      "source": "### Encoding of Categorical Variables :- HomeTeam + AwayTeam"
    },
    {
      "metadata": {
        "trusted": true,
        "_uuid": "b4bd98826794052e9aeee2a4013351b010e4d7dd",
        "collapsed": true
      },
      "cell_type": "code",
      "source": "# show the encoded values/mappings\nhtcodes = df_sub[['HomeTeam','HTeam']]\nhtcodes = htcodes.drop_duplicates(['HomeTeam','HTeam'])\nhtcodes",
      "execution_count": null,
      "outputs": []
    },
    {
      "metadata": {
        "trusted": true,
        "_uuid": "e9451cd8d3ec073e757fc97293b21784a3a79781",
        "collapsed": true
      },
      "cell_type": "code",
      "source": "# show the encoded values/mappings\natcodes = df_sub[['AwayTeam','ATeam']]\natcodes = atcodes.drop_duplicates(['AwayTeam','ATeam'])\natcodes",
      "execution_count": null,
      "outputs": []
    },
    {
      "metadata": {
        "trusted": true,
        "_uuid": "c3a891881d530ebc1179a8c87ab6a659a803c35f",
        "collapsed": true
      },
      "cell_type": "code",
      "source": "# show the encoded values/mappings\ndayeve_codes = df_sub[['Day_Eve','DayEve']]\ndayeve_codes = dayeve_codes.drop_duplicates(['Day_Eve','DayEve'])\ndayeve_codes",
      "execution_count": null,
      "outputs": []
    },
    {
      "metadata": {
        "trusted": true,
        "_uuid": "a86d3cbd2cf7493b7695e712ed90a95bc99cb4b5",
        "collapsed": true
      },
      "cell_type": "code",
      "source": "# drop the original home and away team columns\ndf_sub = df_sub[['HTeam','ATeam','DayEve','Hol_Type','Day_Type','Capacity','Average_Travelling_Fans','Cheapest_Season_T',\n             'Home_League_Position','Away_League_Position','Form_Home','Form_Away','Distance','Temperature','Lowest_Home_Ticket_Price',\n             'Lowest_Away_Ticket_Price','Highest_Home_Ticket_Price','match_month','Attendance']]\ndf_sub.head()",
      "execution_count": null,
      "outputs": []
    },
    {
      "metadata": {
        "trusted": true,
        "collapsed": true,
        "_uuid": "59ebfb48b9493ff3ab353e2fc0170dc9e7afee18"
      },
      "cell_type": "code",
      "source": "X = np.array(df_sub[['Day_Type','Hol_Type','DayEve','Capacity','Average_Travelling_Fans','Cheapest_Season_T','Home_League_Position','Away_League_Position',\n       'Form_Home','Form_Away','Distance','Temperature','Lowest_Home_Ticket_Price','Lowest_Away_Ticket_Price',\n       'Highest_Home_Ticket_Price','match_month','HTeam','ATeam']])\ny = df_sub.Attendance",
      "execution_count": null,
      "outputs": []
    },
    {
      "metadata": {
        "_uuid": "8d248a6a60d3847d51aa630c6b2c9be3efa4de2f"
      },
      "cell_type": "markdown",
      "source": "### Checking for Multicollinearity\nThis is the presence of correlation in independant variables.  If variables are correlated, then it becomes extremely difficult for the model to determine the true effect of X on Y or find out which variable is contributing to predict the response variable. To investigate if any variables are correlated, then produce a Correlation Table. (nb. scatter plots could also be done)."
    },
    {
      "metadata": {
        "trusted": true,
        "_uuid": "f521709d6c84113876b0c4d259e7b5885a4c613b",
        "collapsed": true
      },
      "cell_type": "code",
      "source": "correlationMatrix = df_sub.corr().abs()\n\nplt.subplots(figsize=(18, 8))\nsns.heatmap(correlationMatrix,annot=True)\n\n# Mask unimportant features\nsns.heatmap(correlationMatrix, mask=correlationMatrix < 1, cbar=False)\nplt.show()",
      "execution_count": null,
      "outputs": []
    },
    {
      "metadata": {
        "_uuid": "3df16488e016911068d8e29f5754fbfc73b0ec7f"
      },
      "cell_type": "markdown",
      "source": "Attendance is the Response Variable, so we can ignore any correlations here. On the other variables, its only Capacity and \"Highest Home Ticket Price\" that seem to be exhibiting a correlation.\n\nBefore modelling the data via regression, as the data items have different scales (ie. some have values of 0 or 1, some in the hundreds, some in the thousands), we therefore scale all of the X variables."
    },
    {
      "metadata": {
        "trusted": true,
        "_uuid": "cdbf60b79783a6e779c46886b0514b6114fdc186",
        "collapsed": true
      },
      "cell_type": "code",
      "source": "# Scale the features: X_scaled\nX_scaled = scale(X)\nX_scaled",
      "execution_count": null,
      "outputs": []
    },
    {
      "metadata": {
        "trusted": true,
        "_uuid": "4ee2d84de1c81d573623927f50bb6faa74afcbd6",
        "collapsed": true
      },
      "cell_type": "code",
      "source": "# Print the mean and standard deviation of the unscaled features\nprint(\"Mean of Unscaled Features: {}\".format(np.mean(X))) \nprint(\"Standard Deviation of Unscaled Features: {}\".format(np.std(X)))\n\n# Print the mean and standard deviation of the scaled features\nprint(\"Mean of Scaled Features: {}\".format(np.mean(X_scaled))) \nprint(\"Standard Deviation of Scaled Features: {}\".format(np.std(X_scaled)))",
      "execution_count": null,
      "outputs": []
    },
    {
      "metadata": {
        "trusted": true,
        "collapsed": true,
        "_uuid": "32b7f8264058de29fb857e70421752cb3a04f456"
      },
      "cell_type": "code",
      "source": "# Create training and test sets\nX_train, X_test, y_train, y_test = train_test_split(X_scaled, y, test_size = 0.3, random_state=42)\n\n# Create the regressor: reg_all\nreg_all = LinearRegression()",
      "execution_count": null,
      "outputs": []
    },
    {
      "metadata": {
        "trusted": true,
        "_uuid": "b11234b9a020a7d4d7916d01cf9c0b25e73b38ea",
        "collapsed": true
      },
      "cell_type": "code",
      "source": "# Fit the regressor to the training data\nreg_all.fit(X_train,y_train)\n\n# Predict on the test data: y_pred\ny_pred = reg_all.predict(X_test)\n\n# Compute and print R^2 and RMSE\nprint(\"R^2: {}\".format(reg_all.score(X_test, y_test)))\nrmse = np.sqrt(mean_squared_error(y_test,y_pred))\nprint(\"Root Mean Squared Error: {}\".format(rmse))",
      "execution_count": null,
      "outputs": []
    },
    {
      "metadata": {
        "_uuid": "e20bc9523a801fede206294c45fc4cc77f7a562d"
      },
      "cell_type": "markdown",
      "source": "### Model Evaluation Metrics for Regression\nMAE = Mean Absolute Error\nMSE = Mean Squared Error\nRMSE = Root Mean Squared Error\n\nComparing these metrics:\n\nMAE is the easiest to understand, because it's the average error.\nMSE is more popular than MAE, because MSE \"punishes\" larger errors.\nRMSE is even more popular than MSE, because RMSE is interpretable in the \"y\" units.\n\nMean Absolute Error (MAE) is the mean of the absolute value of the errors:\n\n$$\\frac 1n\\sum_{i=1}^n|y_i-\\hat{y}_i|$$\n\n\nMean Squared Error (MSE) is the mean of the squared errors:\n\n$$\\frac 1n\\sum_{i=1}^n(y_i-\\hat{y}_i)^2$$\n\n\nRoot Mean Squared Error (RMSE) is the square root of the mean of the squared errors:\n\n$$\\sqrt{\\frac 1n\\sum_{i=1}^n(y_i-\\hat{y}_i)^2}$$"
    },
    {
      "metadata": {
        "trusted": true,
        "_uuid": "fde6dc693e2507dfd6cf9c574ea801035c167e31",
        "collapsed": true
      },
      "cell_type": "code",
      "source": "# calculate MAE using scikit-learn\nfrom sklearn import metrics\nprint(metrics.mean_absolute_error(y_test, y_pred))",
      "execution_count": null,
      "outputs": []
    },
    {
      "metadata": {
        "trusted": true,
        "_uuid": "c110e891186190d4a5c5db5e768ed667adf660e0",
        "collapsed": true
      },
      "cell_type": "code",
      "source": "# calculate MSE using scikit-learn\nprint(metrics.mean_squared_error(y_test, y_pred))",
      "execution_count": null,
      "outputs": []
    },
    {
      "metadata": {
        "trusted": true,
        "_uuid": "0f3d82a6960af336b0c4b2d2214b5332f49bb86d",
        "collapsed": true
      },
      "cell_type": "code",
      "source": "# calculate RMSE using scikit-learn\nprint(np.sqrt(metrics.mean_squared_error(y_test, y_pred)))",
      "execution_count": null,
      "outputs": []
    },
    {
      "metadata": {
        "trusted": true,
        "_uuid": "c19042b1b283eb9253709044c3492a970d244dda",
        "collapsed": true
      },
      "cell_type": "code",
      "source": "import matplotlib.pyplot as plt\n\n# regression coefficients\nprint('Coefficients: \\n', reg_all.coef_)\n \n# variance score: 1 means perfect prediction\nprint('Variance score: {}'.format(reg_all.score(X_test, y_test)))\n \n# plot for residual error\n \n## setting plot style\nplt.style.use('fivethirtyeight')\n \n## plotting residual errors in training data\nplt.scatter(reg_all.predict(X_train), reg_all.predict(X_train) - y_train,\n            color = \"green\", s = 10, label = 'Train data')\n \n## plotting residual errors in test data\nplt.scatter(reg_all.predict(X_test), reg_all.predict(X_test) - y_test,\n            color = \"blue\", s = 10, label = 'Test data')\n \n## plotting line for zero residual error\nplt.hlines(y = 0, xmin = 0, xmax = 50, linewidth = 2)\n \n## plotting legend\nplt.legend(loc = 'upper right')\n \n## plot title\nplt.title(\"Residual errors\")\n \n## function to show plot\nplt.show()",
      "execution_count": null,
      "outputs": []
    },
    {
      "metadata": {
        "_uuid": "c696ff74edd53cada520c3e7ed765db6c732369e"
      },
      "cell_type": "markdown",
      "source": "### Above plot suggests non-linearity in the data. It means that the model doesn’t capture nonlinear effects.  The funnel shape in the plot, indicates signs of non-constant variance i.e. heteroskedasticity."
    },
    {
      "metadata": {
        "trusted": true,
        "_uuid": "1ffc15b6a05e97e06f904d26fc03c29a5452eb08",
        "collapsed": true
      },
      "cell_type": "code",
      "source": "residuals = y_test - y_pred\nresiduals.describe()",
      "execution_count": null,
      "outputs": []
    },
    {
      "metadata": {
        "trusted": true,
        "_uuid": "de8437f3ee69cf24f92f637c612981b818e31212",
        "collapsed": true
      },
      "cell_type": "code",
      "source": "import scipy.stats as stats\nplt.figure(figsize=(9,9))\nstats.probplot(residuals, dist=\"norm\", plot=plt)",
      "execution_count": null,
      "outputs": []
    },
    {
      "metadata": {
        "_uuid": "fd12839be504bef244c46e53d1c23beb545f464e"
      },
      "cell_type": "markdown",
      "source": "### If residuals are normally distributed, then they should like along the straight line on the Q-Q plot. The residuals here appear to not fully follow the normality line. This is an indication that this model/straight line may not be sufficent to predict attendances.\n\n\n### Now below try backwards elimination"
    },
    {
      "metadata": {
        "trusted": true,
        "collapsed": true,
        "_uuid": "4122263f1929a8a1551fb97cee213379ac01ce1c"
      },
      "cell_type": "code",
      "source": "x = df_sub[['Day_Type','Hol_Type','DayEve','Capacity','Average_Travelling_Fans','Cheapest_Season_T','Home_League_Position','Away_League_Position',\n       'Form_Home','Form_Away','Distance','Temperature','Lowest_Home_Ticket_Price','Lowest_Away_Ticket_Price',\n       'Highest_Home_Ticket_Price','match_month','HTeam','ATeam']]\ny = df_sub.Attendance",
      "execution_count": null,
      "outputs": []
    },
    {
      "metadata": {
        "trusted": true,
        "_uuid": "1f422b838c143ac57cf3259a8b56b8270b75507e",
        "collapsed": true
      },
      "cell_type": "code",
      "source": "x2 = sm.add_constant(x)\nregressor_OLS = sm.OLS(endog = y, exog = x2, fit_intercept=True).fit()\nregressor_OLS.summary()",
      "execution_count": null,
      "outputs": []
    },
    {
      "metadata": {
        "trusted": true,
        "_uuid": "93943025e6baee3cdea2abe7e5b1fdf21f2dede4",
        "collapsed": true
      },
      "cell_type": "code",
      "source": "# remove Temperature as greater than 0.05\nx = df_sub[['Day_Type','Hol_Type','DayEve','Capacity','Average_Travelling_Fans','Cheapest_Season_T','Home_League_Position','Away_League_Position',\n       'Form_Home','Form_Away','Distance','Lowest_Home_Ticket_Price','Lowest_Away_Ticket_Price',\n       'Highest_Home_Ticket_Price','match_month','HTeam','ATeam']]\nx2 = sm.add_constant(x)\nregressor_OLS = sm.OLS(endog = y, exog = x2).fit()\nregressor_OLS.summary()",
      "execution_count": null,
      "outputs": []
    },
    {
      "metadata": {
        "trusted": true,
        "_uuid": "4e3129f83f7611dd659922d00279934d99e42ee7",
        "collapsed": true
      },
      "cell_type": "code",
      "source": "# remove away_league_position as greater than 0.05\nx = df_sub[['Day_Type','Hol_Type','DayEve','Capacity','Average_Travelling_Fans','Cheapest_Season_T','Home_League_Position',\n       'Form_Home','Form_Away','Distance','Lowest_Home_Ticket_Price','Lowest_Away_Ticket_Price',\n       'Highest_Home_Ticket_Price','match_month','HTeam','ATeam']]\nx2 = sm.add_constant(x)\nregressor_OLS = sm.OLS(endog = y, exog = x2).fit()\nregressor_OLS.summary()",
      "execution_count": null,
      "outputs": []
    },
    {
      "metadata": {
        "trusted": true,
        "_uuid": "5bef0b4af63d911bc4baaf3931ccd706f3dddb0f",
        "collapsed": true
      },
      "cell_type": "code",
      "source": "# remove lowest_home_Ticket_price as greater than 0.05\nx = df_sub[['Day_Type','Hol_Type','DayEve','Capacity','Average_Travelling_Fans','Cheapest_Season_T','Home_League_Position',\n       'Form_Home','Form_Away','Distance','Lowest_Away_Ticket_Price',\n       'Highest_Home_Ticket_Price','match_month','HTeam','ATeam']]\nx2 = sm.add_constant(x)\nregressor_OLS = sm.OLS(endog = y, exog = x2).fit()\nregressor_OLS.summary()",
      "execution_count": null,
      "outputs": []
    },
    {
      "metadata": {
        "trusted": true,
        "_uuid": "cce62cd1c9dcbc04d3919873101019921f12cd7f",
        "collapsed": true
      },
      "cell_type": "code",
      "source": "# remove form_away as greater than 0.05\nx = df_sub[['Day_Type','Hol_Type','DayEve','Capacity','Average_Travelling_Fans','Cheapest_Season_T','Home_League_Position',\n       'Form_Home','Distance','Lowest_Away_Ticket_Price',\n       'Highest_Home_Ticket_Price','match_month','HTeam','ATeam']]\nx2 = sm.add_constant(x)\nregressor_OLS = sm.OLS(endog = y, exog = x2).fit()\nregressor_OLS.summary()",
      "execution_count": null,
      "outputs": []
    },
    {
      "metadata": {
        "trusted": true,
        "_uuid": "ca0cc1a609dc915d558040ae34b1d8ef2707b0df",
        "collapsed": true
      },
      "cell_type": "code",
      "source": "# remove flowest_away_Ticket_price as greater than 0.05\nx = df_sub[['Day_Type','Hol_Type','DayEve','Capacity','Average_Travelling_Fans','Cheapest_Season_T','Home_League_Position',\n       'Form_Home','Distance',\n       'Highest_Home_Ticket_Price','match_month','HTeam','ATeam']]\nx2 = sm.add_constant(x)\nregressor_OLS = sm.OLS(endog = y, exog = x2).fit()\nregressor_OLS.summary()",
      "execution_count": null,
      "outputs": []
    },
    {
      "metadata": {
        "trusted": true,
        "_uuid": "1066694b4cbdc48bc0ea3cec18d055fcf400a5f2",
        "collapsed": true
      },
      "cell_type": "code",
      "source": "# remove ATeam as greater than 0.05\nx = df_sub[['Day_Type','Hol_Type','DayEve','Capacity','Average_Travelling_Fans','Cheapest_Season_T','Home_League_Position',\n       'Form_Home','Distance',\n       'Highest_Home_Ticket_Price','match_month','HTeam']]\nx2 = sm.add_constant(x)\nregressor_OLS = sm.OLS(endog = y, exog = x2).fit()\nregressor_OLS.summary()",
      "execution_count": null,
      "outputs": []
    },
    {
      "metadata": {
        "trusted": true,
        "_uuid": "87e522a5bba53d6ffbdbaee8b878adb121f98a61",
        "collapsed": true
      },
      "cell_type": "code",
      "source": "# remove distance as greater than 0.05\nx = df_sub[['Day_Type','Hol_Type','DayEve','Capacity','Average_Travelling_Fans','Cheapest_Season_T','Home_League_Position',\n       'Form_Home','Highest_Home_Ticket_Price','match_month','HTeam']]\nx2 = sm.add_constant(x)\nregressor_OLS = sm.OLS(endog = y, exog = x2).fit()\nregressor_OLS.summary()",
      "execution_count": null,
      "outputs": []
    },
    {
      "metadata": {
        "trusted": true,
        "_uuid": "1069a057443c687298c0d1c95ccd867e820302ac",
        "collapsed": true
      },
      "cell_type": "code",
      "source": "# remove match_month as greater than 0.05\nx = df_sub[['Day_Type','Hol_Type','DayEve','Capacity','Average_Travelling_Fans','Cheapest_Season_T','Home_League_Position',\n       'Form_Home','Highest_Home_Ticket_Price','HTeam']]\nx2 = sm.add_constant(x)\nregressor_OLS = sm.OLS(endog = y, exog = x2).fit()\nregressor_OLS.summary()",
      "execution_count": null,
      "outputs": []
    },
    {
      "metadata": {
        "trusted": true,
        "_uuid": "d34fc2869e878927c024f24a6c9cc4bd17eeb646",
        "collapsed": true
      },
      "cell_type": "code",
      "source": "# summarize our model\nregOLS_model_summary = regressor_OLS.summary()\nregOLS_model_summary",
      "execution_count": null,
      "outputs": []
    },
    {
      "metadata": {
        "trusted": true,
        "_uuid": "3f9e4d88a24d92b9cd809ddcf08849d7d7032866",
        "collapsed": true
      },
      "cell_type": "code",
      "source": "fig = plt.figure(figsize=(20,24))\nfig = sm.graphics.plot_partregress_grid(regressor_OLS, fig=fig)",
      "execution_count": null,
      "outputs": []
    },
    {
      "metadata": {
        "trusted": true,
        "_uuid": "a016021c96b10c6e48ae5e3d74181cae37eda891",
        "collapsed": true
      },
      "cell_type": "code",
      "source": "# seaborn residual plot\nsns.residplot(regressor_OLS.fittedvalues, df_sub['Attendance'], lowess=True, line_kws={'color':'r', 'lw':1})\nplt.title('Residual plot')\nplt.xlabel('Predicted values')\nplt.ylabel('Residuals');",
      "execution_count": null,
      "outputs": []
    },
    {
      "metadata": {
        "_uuid": "17dfd89cdd82976a1535ff47918965160c1edee8"
      },
      "cell_type": "markdown",
      "source": "### Above graph suggests non-linearity in the data.  If a funnel shape is evident in the plot, consider it as the signs of non-constant variance i.e. heteroskedasticity.  To rectify this, could try transforming Y, using ln, or Sqrt"
    },
    {
      "metadata": {
        "trusted": true,
        "_uuid": "9156ccc67a7e8379517db1d44771e65567aa3f88",
        "collapsed": true
      },
      "cell_type": "code",
      "source": "fig, ax = plt.subplots(figsize=(24,16))\nfig = sm.graphics.influence_plot(regressor_OLS, ax=ax, criterion=\"cooks\")",
      "execution_count": null,
      "outputs": []
    },
    {
      "metadata": {
        "_uuid": "b84b8118e9a9da6a7831ee11574a76f882add3a5"
      },
      "cell_type": "markdown",
      "source": "### The above plot shows up possible outliers. Anything greater than 3 is a possible outlier. Possible action is to remove these from the dataset."
    },
    {
      "metadata": {
        "trusted": true,
        "_uuid": "a3eaf18930b697f8be8e9e31b3b5f770b5a4071e",
        "collapsed": true
      },
      "cell_type": "code",
      "source": "# Q-Q plot for normality\nfigqq= sm.qqplot(regressor_OLS.resid, line='r')",
      "execution_count": null,
      "outputs": []
    },
    {
      "metadata": {
        "_uuid": "5bb6d9c3cd3cecf26eb27d1d55f764490e275e7e"
      },
      "cell_type": "markdown",
      "source": "### This plot shows if residuals are normally distributed. Do residuals follow a straight line well or do they deviate severely? It’s good if residuals are lined well on the straight red line."
    },
    {
      "metadata": {
        "_uuid": "4a35ad59139f2f1b27c9a264d10a519f137d01f4"
      },
      "cell_type": "markdown",
      "source": "### Now try backwards elimination, but with LOG(Y) used for Response variable Y"
    },
    {
      "metadata": {
        "trusted": true,
        "_uuid": "d50e45f3bef0046917e043848ac7149cf63bfe18",
        "collapsed": true
      },
      "cell_type": "code",
      "source": "x = df_sub[['Day_Type','Hol_Type','DayEve','Capacity','Average_Travelling_Fans','Cheapest_Season_T','Home_League_Position','Away_League_Position',\n       'Form_Home','Form_Away','Distance','Temperature','Lowest_Home_Ticket_Price','Lowest_Away_Ticket_Price',\n       'Highest_Home_Ticket_Price','match_month','HTeam','ATeam']]\ny = np.log(y)\nx2 = sm.add_constant(x)\nregressor_OLS = sm.OLS(endog = y, exog = x2).fit()\nregressor_OLS.summary()",
      "execution_count": null,
      "outputs": []
    },
    {
      "metadata": {
        "trusted": true,
        "_uuid": "4c884b87fff93a32b7c3335bec88aebb1f21e95b",
        "collapsed": true
      },
      "cell_type": "code",
      "source": "# remove temperature variable\nx = df_sub[['Day_Type','Hol_Type','DayEve','Capacity','Average_Travelling_Fans','Cheapest_Season_T','Home_League_Position','Away_League_Position',\n       'Form_Home','Form_Away','Distance','Lowest_Home_Ticket_Price','Lowest_Away_Ticket_Price',\n       'Highest_Home_Ticket_Price','match_month','HTeam','ATeam']]\nx2 = sm.add_constant(x)\nregressor_OLS = sm.OLS(endog = y, exog = x2).fit()\nregressor_OLS.summary()",
      "execution_count": null,
      "outputs": []
    },
    {
      "metadata": {
        "trusted": true,
        "_uuid": "ff6f53f18d8361416b2e7ff1bdb2940a79708f80",
        "collapsed": true
      },
      "cell_type": "code",
      "source": "# remove form_away variable\nx = df_sub[['Day_Type','Hol_Type','DayEve','Capacity','Average_Travelling_Fans','Cheapest_Season_T','Home_League_Position','Away_League_Position',\n       'Form_Home','Distance','Lowest_Home_Ticket_Price','Lowest_Away_Ticket_Price',\n       'Highest_Home_Ticket_Price','match_month','HTeam','ATeam']]\nx2 = sm.add_constant(x)\nregressor_OLS = sm.OLS(endog = y, exog = x2).fit()\nregressor_OLS.summary()",
      "execution_count": null,
      "outputs": []
    },
    {
      "metadata": {
        "trusted": true,
        "_uuid": "d8d723d01e9a7ba0700a5e15a0a7809431861973",
        "collapsed": true
      },
      "cell_type": "code",
      "source": "# remove HTeam variable\nx = df_sub[['Day_Type','Hol_Type','DayEve','Capacity','Average_Travelling_Fans','Cheapest_Season_T','Home_League_Position','Away_League_Position',\n       'Form_Home','Distance','Lowest_Home_Ticket_Price','Lowest_Away_Ticket_Price',\n       'Highest_Home_Ticket_Price','match_month','ATeam']]\nx2 = sm.add_constant(x)\nregressor_OLS = sm.OLS(endog = y, exog = x2).fit()\nregressor_OLS.summary()",
      "execution_count": null,
      "outputs": []
    },
    {
      "metadata": {
        "trusted": true,
        "_uuid": "bcb247fb959ce99d25ae86fb0b9f067493d010bd",
        "collapsed": true
      },
      "cell_type": "code",
      "source": "# remove Cheapest_Season_T variable\nx = df_sub[['Day_Type','Hol_Type','DayEve','Capacity','Average_Travelling_Fans','Home_League_Position','Away_League_Position',\n       'Form_Home','Distance','Lowest_Home_Ticket_Price','Lowest_Away_Ticket_Price',\n       'Highest_Home_Ticket_Price','match_month','ATeam']]\nx2 = sm.add_constant(x)\nregressor_OLS = sm.OLS(endog = y, exog = x2).fit()\nregressor_OLS.summary()",
      "execution_count": null,
      "outputs": []
    },
    {
      "metadata": {
        "trusted": true,
        "_uuid": "3fcb74a2724a2ca4ea6cda08f1bb34c6798ee155",
        "collapsed": true
      },
      "cell_type": "code",
      "source": "# remove Away_League_Position variable\nx = df_sub[['Day_Type','Hol_Type','DayEve','Capacity','Average_Travelling_Fans','Home_League_Position',\n       'Form_Home','Distance','Lowest_Home_Ticket_Price','Lowest_Away_Ticket_Price',\n       'Highest_Home_Ticket_Price','match_month','ATeam']]\nx2 = sm.add_constant(x)\nregressor_OLS = sm.OLS(endog = y, exog = x2).fit()\nregressor_OLS.summary()",
      "execution_count": null,
      "outputs": []
    },
    {
      "metadata": {
        "trusted": true,
        "_uuid": "296b24f5bfa76c73b79c3d6e011bbddae3bcaad0",
        "collapsed": true
      },
      "cell_type": "code",
      "source": "# remove Form_Home variable\nx = df_sub[['Day_Type','Hol_Type','DayEve','Capacity','Average_Travelling_Fans','Home_League_Position',\n       'Distance','Lowest_Home_Ticket_Price','Lowest_Away_Ticket_Price',\n       'Highest_Home_Ticket_Price','match_month','ATeam']]\nx2 = sm.add_constant(x)\nregressor_OLS = sm.OLS(endog = y, exog = x2).fit()\nregressor_OLS.summary()",
      "execution_count": null,
      "outputs": []
    },
    {
      "metadata": {
        "trusted": true,
        "_uuid": "33ee4a0b10563f24e8ebf7049891dbded3c03e81",
        "collapsed": true
      },
      "cell_type": "code",
      "source": "# remove match_month variable\nx = df_sub[['Day_Type','Hol_Type','DayEve','Capacity','Average_Travelling_Fans','Home_League_Position',\n       'Distance','Lowest_Home_Ticket_Price','Lowest_Away_Ticket_Price',\n       'Highest_Home_Ticket_Price','ATeam']]\nx2 = sm.add_constant(x)\nregressor_OLS = sm.OLS(endog = y, exog = x2).fit()\nregressor_OLS.summary()",
      "execution_count": null,
      "outputs": []
    },
    {
      "metadata": {
        "trusted": true,
        "_uuid": "06e0f016c42ce4e296ec629e9302b8d19f0a6022",
        "collapsed": true
      },
      "cell_type": "code",
      "source": "# remove ATeam variable\nx = df_sub[['Day_Type','Hol_Type','DayEve','Capacity','Average_Travelling_Fans','Home_League_Position',\n       'Distance','Lowest_Home_Ticket_Price','Lowest_Away_Ticket_Price',\n       'Highest_Home_Ticket_Price']]\nx2 = sm.add_constant(x)\nregressor_OLS = sm.OLS(endog = y, exog = x2).fit()\nregressor_OLS.summary()",
      "execution_count": null,
      "outputs": []
    },
    {
      "metadata": {
        "trusted": true,
        "_uuid": "5170cc2045566e88ec5ac8702bb16abd3786eab0",
        "collapsed": true
      },
      "cell_type": "code",
      "source": "fig = plt.figure(figsize=(20,24))\nfig = sm.graphics.plot_partregress_grid(regressor_OLS, fig=fig)",
      "execution_count": null,
      "outputs": []
    },
    {
      "metadata": {
        "trusted": true,
        "_uuid": "80f2a8fe8ec66aa5536a2d303cba8617e46df992",
        "collapsed": true
      },
      "cell_type": "code",
      "source": "# seaborn residual plot\nsns.residplot(regressor_OLS.fittedvalues, y, lowess=True, line_kws={'color':'r', 'lw':1})\nplt.title('Residual plot')\nplt.xlabel('Predicted values')\nplt.ylabel('Residuals');",
      "execution_count": null,
      "outputs": []
    },
    {
      "metadata": {
        "trusted": true,
        "_uuid": "c74ef07d9dc85c5ac923babdf12a0db30af92411",
        "collapsed": true
      },
      "cell_type": "code",
      "source": "fig, ax = plt.subplots(figsize=(24,16))\nfig = sm.graphics.influence_plot(regressor_OLS, ax=ax, criterion=\"cooks\")",
      "execution_count": null,
      "outputs": []
    },
    {
      "metadata": {
        "trusted": true,
        "_uuid": "3129ab70c7c0393741adfb24b8d492b97150db01",
        "collapsed": true
      },
      "cell_type": "code",
      "source": "# Q-Q plot for normality\nfigqq= sm.qqplot(regressor_OLS.resid, line='r')",
      "execution_count": null,
      "outputs": []
    },
    {
      "metadata": {
        "_uuid": "8c484c2f98639ac78a53674abb1b7e69f62408fd"
      },
      "cell_type": "markdown",
      "source": "### This plot shows if residuals are normally distributed. Do residuals follow a straight line well or do they deviate severely? It’s good if residuals are lined well on the straight red line."
    }
  ],
  "metadata": {
    "kernelspec": {
      "display_name": "Python 3",
      "language": "python",
      "name": "python3"
    },
    "language_info": {
      "name": "python",
      "version": "3.6.6",
      "mimetype": "text/x-python",
      "codemirror_mode": {
        "name": "ipython",
        "version": 3
      },
      "pygments_lexer": "ipython3",
      "nbconvert_exporter": "python",
      "file_extension": ".py"
    },
    "toc": {
      "base_numbering": 1,
      "nav_menu": {},
      "number_sections": true,
      "sideBar": true,
      "skip_h1_title": false,
      "title_cell": "Table of Contents",
      "title_sidebar": "Contents",
      "toc_cell": false,
      "toc_position": {},
      "toc_section_display": true,
      "toc_window_display": false
    }
  },
  "nbformat": 4,
  "nbformat_minor": 1
}